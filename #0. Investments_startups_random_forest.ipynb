{
 "cells": [
  {
   "cell_type": "code",
   "execution_count": 26,
   "id": "d8e67c00",
   "metadata": {},
   "outputs": [],
   "source": [
    "import pandas as pd\n",
    "import numpy as np"
   ]
  },
  {
   "cell_type": "code",
   "execution_count": 27,
   "id": "0e7cc601",
   "metadata": {},
   "outputs": [],
   "source": [
    "link= r'C:\\Users\\Aless\\Desktop\\Data Analysis Portfolio\\invx.xlsx'"
   ]
  },
  {
   "cell_type": "code",
   "execution_count": 28,
   "id": "88f668f1",
   "metadata": {},
   "outputs": [],
   "source": [
    "df = pd.read_excel(link, sheet_name='Foglio3')"
   ]
  },
  {
   "cell_type": "code",
   "execution_count": 29,
   "id": "46226095",
   "metadata": {},
   "outputs": [
    {
     "name": "stdout",
     "output_type": "stream",
     "text": [
      "        funding_total_usd                 market  country_code  founded_year\n",
      "0                  1750000                  News           USA          2012\n",
      "1                    40000            Publishing           EST          2012\n",
      "2                  1500000           Electronics           GBR          2011\n",
      "3                    60000               Tourism           USA          2014\n",
      "4                  7000000              Software           USA          2011\n",
      "...                    ...                    ...          ...           ...\n",
      "28415             13000000       Pharmaceuticals           USA          2014\n",
      "28416             25000000         Biotechnology           USA          2008\n",
      "28417             14750000              Software           GBR          2011\n",
      "28418               320000             Education           GBR          2013\n",
      "28419             45000000   Enterprise Software           USA          1999\n",
      "\n",
      "[28420 rows x 4 columns]\n"
     ]
    }
   ],
   "source": [
    "print(df)"
   ]
  },
  {
   "cell_type": "code",
   "execution_count": 30,
   "id": "a8845b7f",
   "metadata": {},
   "outputs": [],
   "source": [
    "df.rename(columns={' funding_total_usd ':'totfund',' market ':'segment','country_code':'country'},inplace=True)"
   ]
  },
  {
   "cell_type": "code",
   "execution_count": 31,
   "id": "ced41b5c",
   "metadata": {},
   "outputs": [
    {
     "data": {
      "text/html": [
       "<div>\n",
       "<style scoped>\n",
       "    .dataframe tbody tr th:only-of-type {\n",
       "        vertical-align: middle;\n",
       "    }\n",
       "\n",
       "    .dataframe tbody tr th {\n",
       "        vertical-align: top;\n",
       "    }\n",
       "\n",
       "    .dataframe thead th {\n",
       "        text-align: right;\n",
       "    }\n",
       "</style>\n",
       "<table border=\"1\" class=\"dataframe\">\n",
       "  <thead>\n",
       "    <tr style=\"text-align: right;\">\n",
       "      <th></th>\n",
       "      <th>totfund</th>\n",
       "      <th>segment</th>\n",
       "      <th>country</th>\n",
       "      <th>founded_year</th>\n",
       "    </tr>\n",
       "  </thead>\n",
       "  <tbody>\n",
       "    <tr>\n",
       "      <th>0</th>\n",
       "      <td>1750000</td>\n",
       "      <td>News</td>\n",
       "      <td>USA</td>\n",
       "      <td>2012</td>\n",
       "    </tr>\n",
       "    <tr>\n",
       "      <th>1</th>\n",
       "      <td>40000</td>\n",
       "      <td>Publishing</td>\n",
       "      <td>EST</td>\n",
       "      <td>2012</td>\n",
       "    </tr>\n",
       "    <tr>\n",
       "      <th>2</th>\n",
       "      <td>1500000</td>\n",
       "      <td>Electronics</td>\n",
       "      <td>GBR</td>\n",
       "      <td>2011</td>\n",
       "    </tr>\n",
       "    <tr>\n",
       "      <th>3</th>\n",
       "      <td>60000</td>\n",
       "      <td>Tourism</td>\n",
       "      <td>USA</td>\n",
       "      <td>2014</td>\n",
       "    </tr>\n",
       "    <tr>\n",
       "      <th>4</th>\n",
       "      <td>7000000</td>\n",
       "      <td>Software</td>\n",
       "      <td>USA</td>\n",
       "      <td>2011</td>\n",
       "    </tr>\n",
       "    <tr>\n",
       "      <th>...</th>\n",
       "      <td>...</td>\n",
       "      <td>...</td>\n",
       "      <td>...</td>\n",
       "      <td>...</td>\n",
       "    </tr>\n",
       "    <tr>\n",
       "      <th>28415</th>\n",
       "      <td>13000000</td>\n",
       "      <td>Pharmaceuticals</td>\n",
       "      <td>USA</td>\n",
       "      <td>2014</td>\n",
       "    </tr>\n",
       "    <tr>\n",
       "      <th>28416</th>\n",
       "      <td>25000000</td>\n",
       "      <td>Biotechnology</td>\n",
       "      <td>USA</td>\n",
       "      <td>2008</td>\n",
       "    </tr>\n",
       "    <tr>\n",
       "      <th>28417</th>\n",
       "      <td>14750000</td>\n",
       "      <td>Software</td>\n",
       "      <td>GBR</td>\n",
       "      <td>2011</td>\n",
       "    </tr>\n",
       "    <tr>\n",
       "      <th>28418</th>\n",
       "      <td>320000</td>\n",
       "      <td>Education</td>\n",
       "      <td>GBR</td>\n",
       "      <td>2013</td>\n",
       "    </tr>\n",
       "    <tr>\n",
       "      <th>28419</th>\n",
       "      <td>45000000</td>\n",
       "      <td>Enterprise Software</td>\n",
       "      <td>USA</td>\n",
       "      <td>1999</td>\n",
       "    </tr>\n",
       "  </tbody>\n",
       "</table>\n",
       "<p>28420 rows × 4 columns</p>\n",
       "</div>"
      ],
      "text/plain": [
       "        totfund                segment country  founded_year\n",
       "0       1750000                  News      USA          2012\n",
       "1         40000            Publishing      EST          2012\n",
       "2       1500000           Electronics      GBR          2011\n",
       "3         60000               Tourism      USA          2014\n",
       "4       7000000              Software      USA          2011\n",
       "...         ...                    ...     ...           ...\n",
       "28415  13000000       Pharmaceuticals      USA          2014\n",
       "28416  25000000         Biotechnology      USA          2008\n",
       "28417  14750000              Software      GBR          2011\n",
       "28418    320000             Education      GBR          2013\n",
       "28419  45000000   Enterprise Software      USA          1999\n",
       "\n",
       "[28420 rows x 4 columns]"
      ]
     },
     "execution_count": 31,
     "metadata": {},
     "output_type": "execute_result"
    }
   ],
   "source": [
    "df"
   ]
  },
  {
   "cell_type": "code",
   "execution_count": 32,
   "id": "9a224d1e",
   "metadata": {},
   "outputs": [],
   "source": [
    "#df['segment'].unique()"
   ]
  },
  {
   "cell_type": "code",
   "execution_count": 33,
   "id": "979f0e91",
   "metadata": {},
   "outputs": [],
   "source": [
    "#from sklearn.preprocessing import OneHotEncoder\n",
    "\n",
    "#segment_enc=OneHotEncoder(sparse_output=False)"
   ]
  },
  {
   "cell_type": "code",
   "execution_count": 34,
   "id": "0196f8c2",
   "metadata": {},
   "outputs": [],
   "source": [
    "#[df['News'], df['Publishing'], df['Electronics'], df['Tourism'], df['Software'], df['E-Commerce'], df['Health and Wellness'], df['Education'], df['Search'], df['Curated Web'], df['Restaurants'], df['Media'], df['Health Care Information Technology'], df['Analytics'], df['Mobility'], df['Biotechnology'], df['Social Travel'], df['Mobile'], df['Pharmaceuticals'], df[nan], df['Manufacturing'], df['Advertising'], df['Entertainment'], df['Games'], df['Travel'], df['Finance'], df['Social Media'], df['Predictive Analytics'], df['Financial Services'], df['Enterprise Software'], df['Art'], df['Big Data'], df['Blogging Platforms'], df['Social Fundraising'], df['Clean Technology'], df['Corporate IT'], df['Mobile Social'], df['Navigation'], df['Photography'], df['Wine And Spirits'], df['Consumer Electronics'], df['Life Sciences'], df['Corporate Training'], df['Artificial Intelligence'], df['Services'], df['Fashion'], df['Sports'], df['Bitcoin'], df['Online Travel'], df['Web Development'], df['Electronic Health Records'], df['Customer Service'], df['3D Printing'], df['3D'], df['Drones'], df['Hardware + Software'], df['Music'], df['Semiconductors'], df['Messaging'], df['Web Hosting'], df['Developer APIs'], df['Online Shopping'], df['Security'], df['Flash Storage'], df['Networking'], df['Machine Learning'], df['Entrepreneur'], df['Commercial Real Estate'], df['Cloud Computing'], df['Kids'], df['Pets'], df['Real Estate'], df['Health Care'], df['Web Design'], df['Technology'], df['Video'], df['Distribution'], df['Mobile Games'], df['Internet Marketing'], df['Small and Medium Businesses'], df['SEO'], df['Personal Finance'], df['Digital Entertainment'], df['Telecommunications'], df['Consulting'], df['Television'], df['Payments'], df['Design'], df['Automotive'], df['SaaS'], df['Mobile Payments'], df['Social Games'], df['Business Productivity'], df['Communications Hardware'], df['Batteries'], df['Human Resources'], df['Advertising Platforms'], df['Business Services'], df['Events'], df['Nanotechnology'], df['Virtualization'], df['Cloud Infrastructure'], df['Accounting'], df['Sales and Marketing'], df['Solar'], df['Identity Management'], df['Information Security'], df['Apps'], df['Information Technology'], df['Mining Technologies'], df['Medical Devices'], df['Transportation'], df['Cloud Management'], df['Career Management'], df['Brand Marketing'], df['Nonprofits'], df['Recruiting'], df['Healthcare Services'], df['Internet Radio Market'], df['Medical'], df['Marketplaces'], df['Public Relations'], df['Incentives'], df['Gamification'], df['Internet of Things'], df['Android'], df['Marketing Automation'], df['Travel & Tourism'], df['Internet'], df['Collectibles'], df['Task Management'], df['Email'], df['Social Network Media'], df['Mobile Security'], df['Ad Targeting'], df['Development Platforms'], df['Social Media Advertising'], df['Bio-Pharm'], df['Semantic Web'], df['Collaboration'], df['Assisitive Technology'], df['Location Based Services'], df['Trusted Networks'], df['Data Visualization'], df['Enterprise Search'], df['Social Buying'], df['Optimization'], df['Outdoors'], df['Real Time'], df['Classifieds'], df['Local Based Services'], df['Creative'], df['Auctions'], df['RIM'], df['Databases'], df['Mobile Advertising'], df['Displays'], df['Social Commerce'], df['Outsourcing'], df['Outdoor Advertising'], df['Startups'], df['Clean Energy'], df['Adventure Travel'], df['Legal'], df['Advice'], df['Finance Technology'], df['Advertising Exchanges'], df['Therapeutics'], df['Hospitality'], df['Consumers'], df['Wireless'], df['Product Development Services'], df['Mobile Analytics'], df['Cloud Data Services'], df['Food Processing'], df['Privacy'], df['Chat'], df['Banking'], df['Meeting Software'], df['Energy'], df['Retail Technology'], df['Tablets'], df['Twitter Applications'], df['Agriculture'], df['Social Bookmarking']]=segment_enc.fit_transform(df[['segment']]).T"
   ]
  },
  {
   "cell_type": "code",
   "execution_count": 35,
   "id": "459907b4",
   "metadata": {},
   "outputs": [
    {
     "data": {
      "text/plain": [
       "array(['USA', 'EST', 'GBR', 'CHL', 'FRA', 'CHN', 'AUS', 'NLD', 'SWE',\n",
       "       'RUS', 'DNK', 'DEU', 'BEL', 'IRL', 'ITA', 'IND', 'ISR', 'SGP',\n",
       "       'CAN', 'THA', 'NZL', 'ESP', 'CHE', 'BRA', 'HUN', 'BWA', 'KOR',\n",
       "       'HKG', 'FIN', 'CRI', 'PRT', 'ARG', 'ROM', 'JPN', 'TWN', 'COL',\n",
       "       'NOR', 'UKR', 'LTU', 'TUR', 'ISL', 'URY', 'ZAF', 'PER', 'POL',\n",
       "       'IDN', 'PAN', 'PHL', 'AUT', 'VNM', 'UGA', 'HRV', 'LBN', 'ARE',\n",
       "       'EGY', 'LUX', 'PAK', 'CZE', 'MEX', 'MYS', 'BHS', 'NGA', 'ARM',\n",
       "       'DZA', 'MDA', 'BGR', 'TUN', 'TZA', 'CYP', 'KEN', 'NPL', 'CMR',\n",
       "       'SRB', 'SAU', 'CYM', 'JOR', 'GHA', 'SLV', 'GRC', 'LVA', 'ECU',\n",
       "       'MLT', 'NIC', 'SVN', 'SVK', 'TTO', 'MMR', 'BGD', 'MAR', 'GTM',\n",
       "       'AZE', 'MCO', 'DOM', 'UZB', 'BHR', 'OMN', 'BLR', 'BMU', 'JAM',\n",
       "       'KHM', 'MUS', 'SOM', 'GIB', 'SYC'], dtype=object)"
      ]
     },
     "execution_count": 35,
     "metadata": {},
     "output_type": "execute_result"
    }
   ],
   "source": [
    "df['country'].unique()"
   ]
  },
  {
   "cell_type": "code",
   "execution_count": 36,
   "id": "a2808938",
   "metadata": {},
   "outputs": [],
   "source": [
    "from sklearn.preprocessing import OneHotEncoder\n",
    "\n",
    "country_enc=OneHotEncoder(sparse_output=False)"
   ]
  },
  {
   "cell_type": "code",
   "execution_count": 37,
   "id": "449e3315",
   "metadata": {},
   "outputs": [
    {
     "name": "stdout",
     "output_type": "stream",
     "text": [
      "[100  32  35 ...  35  35 100]\n"
     ]
    }
   ],
   "source": [
    "from sklearn.preprocessing import LabelEncoder\n",
    "\n",
    "enc_lab=LabelEncoder()\n",
    "encoded_countries_arr=enc_lab.fit_transform(df['country'])\n",
    "print(encoded_countries_arr)"
   ]
  },
  {
   "cell_type": "code",
   "execution_count": 38,
   "id": "363f5412",
   "metadata": {},
   "outputs": [
    {
     "data": {
      "text/plain": [
       "1"
      ]
     },
     "execution_count": 38,
     "metadata": {},
     "output_type": "execute_result"
    }
   ],
   "source": [
    "encoded_countries_arr.ndim"
   ]
  },
  {
   "cell_type": "code",
   "execution_count": 39,
   "id": "c79dad0d",
   "metadata": {},
   "outputs": [
    {
     "data": {
      "text/plain": [
       "pandas.core.series.Series"
      ]
     },
     "execution_count": 39,
     "metadata": {},
     "output_type": "execute_result"
    }
   ],
   "source": [
    "np_array=(encoded_countries_arr)\n",
    "encoded_countries_ser=pd.Series(np_array)\n",
    "type(encoded_countries_ser)"
   ]
  },
  {
   "cell_type": "code",
   "execution_count": 40,
   "id": "d09a7c37",
   "metadata": {},
   "outputs": [
    {
     "name": "stdout",
     "output_type": "stream",
     "text": [
      "[430 505 195 ... 588 189 216]\n"
     ]
    }
   ],
   "source": [
    "encoded_segment_arr=enc_lab.fit_transform(df['segment'])\n",
    "print(encoded_segment_arr)"
   ]
  },
  {
   "cell_type": "code",
   "execution_count": 41,
   "id": "9861ec90",
   "metadata": {},
   "outputs": [
    {
     "data": {
      "text/plain": [
       "pandas.core.series.Series"
      ]
     },
     "execution_count": 41,
     "metadata": {},
     "output_type": "execute_result"
    }
   ],
   "source": [
    "np_array2=(encoded_segment_arr)\n",
    "encoded_segment_ser=pd.Series(np_array2)\n",
    "type(encoded_segment_ser)"
   ]
  },
  {
   "cell_type": "code",
   "execution_count": 42,
   "id": "92b42123",
   "metadata": {},
   "outputs": [],
   "source": [
    "#df['USA'], df['EST'], df['GBR'], df['CHL'], df['FRA'], df['CHN'], df['AUS'], df['NLD'], df['SWE'], df['RUS'], df['DNK'], df['DEU'], df['BEL'], df['IRL'], df['ITA'], df['IND'], df['ISR'], df['SGP'], df['CAN'], df['THA'], df['NZL'], df['ESP'], df['CHE'], df['BRA'], df['HUN'], df['BWA'], df['KOR'], df['HKG'], df['FIN'], df['CRI'], df['PRT'], df['ARG'], df['ROM'], df['JPN'], df['TWN'], df['COL'], df['NOR'], df['UKR'], df['LTU'], df['TUR'], df['ISL'], df['URY'], df['ZAF'], df['PER'], df['POL'], df['IDN'], df['PAN'], df['PHL'], df['AUT'], df['VNM'], df['UGA'], df['HRV'], df['LBN'], df['ARE'], df['EGY'], df['LUX'], df['PAK'], df['CZE'], df['MEX'], df['MYS'], df['BHS'], df['NGA'], df['ARM'], df['DZA'], df['MDA'], df['BGR'], df['TUN'], df['TZA'], df['CYP'], df['KEN'], df['NPL'], df['CMR'], df['SRB'], df['SAU'], df['CYM'], df['JOR'], df['GHA'], df['SLV'], df['GRC'], df['LVA'], df['ECU'], df['MLT'], df['NIC'], df['SVN'], df['SVK'], df['TTO'], df['MMR'], df['BGD'], df['MAR'], df['GTM'], df['AZE'], df['MCO'], df['DOM'], df['UZB'], df['BHR'], df['OMN'], df['BLR'], df['BMU'], df['JAM'], df['KHM'], df['MUS'], df['SOM'], df['GIB'], df['SYC']=country_enc.fit_transform(df[['country']]).T"
   ]
  },
  {
   "cell_type": "code",
   "execution_count": 67,
   "id": "d55cbcee",
   "metadata": {},
   "outputs": [],
   "source": [
    "df['encoded_countries']=(encoded_countries_ser)\n",
    "df['encoded_segments']=(encoded_segment_ser)"
   ]
  },
  {
   "cell_type": "code",
   "execution_count": 66,
   "id": "5519a5d8",
   "metadata": {},
   "outputs": [],
   "source": [
    "#df1=df.drop([df['segment'],df['country']])"
   ]
  },
  {
   "cell_type": "code",
   "execution_count": 69,
   "id": "538de098",
   "metadata": {},
   "outputs": [
    {
     "data": {
      "text/html": [
       "<div>\n",
       "<style scoped>\n",
       "    .dataframe tbody tr th:only-of-type {\n",
       "        vertical-align: middle;\n",
       "    }\n",
       "\n",
       "    .dataframe tbody tr th {\n",
       "        vertical-align: top;\n",
       "    }\n",
       "\n",
       "    .dataframe thead th {\n",
       "        text-align: right;\n",
       "    }\n",
       "</style>\n",
       "<table border=\"1\" class=\"dataframe\">\n",
       "  <thead>\n",
       "    <tr style=\"text-align: right;\">\n",
       "      <th></th>\n",
       "      <th>totfund</th>\n",
       "      <th>segment</th>\n",
       "      <th>country</th>\n",
       "      <th>founded_year</th>\n",
       "      <th>encoded_countries</th>\n",
       "      <th>encoded_segments</th>\n",
       "    </tr>\n",
       "  </thead>\n",
       "  <tbody>\n",
       "    <tr>\n",
       "      <th>0</th>\n",
       "      <td>1750000</td>\n",
       "      <td>News</td>\n",
       "      <td>USA</td>\n",
       "      <td>2012</td>\n",
       "      <td>100</td>\n",
       "      <td>430</td>\n",
       "    </tr>\n",
       "    <tr>\n",
       "      <th>1</th>\n",
       "      <td>40000</td>\n",
       "      <td>Publishing</td>\n",
       "      <td>EST</td>\n",
       "      <td>2012</td>\n",
       "      <td>32</td>\n",
       "      <td>505</td>\n",
       "    </tr>\n",
       "    <tr>\n",
       "      <th>2</th>\n",
       "      <td>1500000</td>\n",
       "      <td>Electronics</td>\n",
       "      <td>GBR</td>\n",
       "      <td>2011</td>\n",
       "      <td>35</td>\n",
       "      <td>195</td>\n",
       "    </tr>\n",
       "    <tr>\n",
       "      <th>3</th>\n",
       "      <td>60000</td>\n",
       "      <td>Tourism</td>\n",
       "      <td>USA</td>\n",
       "      <td>2014</td>\n",
       "      <td>100</td>\n",
       "      <td>633</td>\n",
       "    </tr>\n",
       "    <tr>\n",
       "      <th>4</th>\n",
       "      <td>7000000</td>\n",
       "      <td>Software</td>\n",
       "      <td>USA</td>\n",
       "      <td>2011</td>\n",
       "      <td>100</td>\n",
       "      <td>588</td>\n",
       "    </tr>\n",
       "    <tr>\n",
       "      <th>...</th>\n",
       "      <td>...</td>\n",
       "      <td>...</td>\n",
       "      <td>...</td>\n",
       "      <td>...</td>\n",
       "      <td>...</td>\n",
       "      <td>...</td>\n",
       "    </tr>\n",
       "    <tr>\n",
       "      <th>28415</th>\n",
       "      <td>13000000</td>\n",
       "      <td>Pharmaceuticals</td>\n",
       "      <td>USA</td>\n",
       "      <td>2014</td>\n",
       "      <td>100</td>\n",
       "      <td>473</td>\n",
       "    </tr>\n",
       "    <tr>\n",
       "      <th>28416</th>\n",
       "      <td>25000000</td>\n",
       "      <td>Biotechnology</td>\n",
       "      <td>USA</td>\n",
       "      <td>2008</td>\n",
       "      <td>100</td>\n",
       "      <td>53</td>\n",
       "    </tr>\n",
       "    <tr>\n",
       "      <th>28417</th>\n",
       "      <td>14750000</td>\n",
       "      <td>Software</td>\n",
       "      <td>GBR</td>\n",
       "      <td>2011</td>\n",
       "      <td>35</td>\n",
       "      <td>588</td>\n",
       "    </tr>\n",
       "    <tr>\n",
       "      <th>28418</th>\n",
       "      <td>320000</td>\n",
       "      <td>Education</td>\n",
       "      <td>GBR</td>\n",
       "      <td>2013</td>\n",
       "      <td>35</td>\n",
       "      <td>189</td>\n",
       "    </tr>\n",
       "    <tr>\n",
       "      <th>28419</th>\n",
       "      <td>45000000</td>\n",
       "      <td>Enterprise Software</td>\n",
       "      <td>USA</td>\n",
       "      <td>1999</td>\n",
       "      <td>100</td>\n",
       "      <td>216</td>\n",
       "    </tr>\n",
       "  </tbody>\n",
       "</table>\n",
       "<p>28420 rows × 6 columns</p>\n",
       "</div>"
      ],
      "text/plain": [
       "        totfund                segment country  founded_year  \\\n",
       "0       1750000                  News      USA          2012   \n",
       "1         40000            Publishing      EST          2012   \n",
       "2       1500000           Electronics      GBR          2011   \n",
       "3         60000               Tourism      USA          2014   \n",
       "4       7000000              Software      USA          2011   \n",
       "...         ...                    ...     ...           ...   \n",
       "28415  13000000       Pharmaceuticals      USA          2014   \n",
       "28416  25000000         Biotechnology      USA          2008   \n",
       "28417  14750000              Software      GBR          2011   \n",
       "28418    320000             Education      GBR          2013   \n",
       "28419  45000000   Enterprise Software      USA          1999   \n",
       "\n",
       "       encoded_countries  encoded_segments  \n",
       "0                    100               430  \n",
       "1                     32               505  \n",
       "2                     35               195  \n",
       "3                    100               633  \n",
       "4                    100               588  \n",
       "...                  ...               ...  \n",
       "28415                100               473  \n",
       "28416                100                53  \n",
       "28417                 35               588  \n",
       "28418                 35               189  \n",
       "28419                100               216  \n",
       "\n",
       "[28420 rows x 6 columns]"
      ]
     },
     "execution_count": 69,
     "metadata": {},
     "output_type": "execute_result"
    }
   ],
   "source": [
    "\n"
   ]
  },
  {
   "cell_type": "code",
   "execution_count": null,
   "id": "b8f207b3",
   "metadata": {},
   "outputs": [],
   "source": [
    "#pd.set_option('display.max_rows', None)\n",
    "#pd.set_option('display.max_columns', None)\n"
   ]
  },
  {
   "cell_type": "code",
   "execution_count": 72,
   "id": "bc4afde5",
   "metadata": {},
   "outputs": [
    {
     "data": {
      "text/plain": [
       "pandas.core.series.Series"
      ]
     },
     "execution_count": 72,
     "metadata": {},
     "output_type": "execute_result"
    }
   ],
   "source": [
    "df['founded_year']=df['founded_year'].astype(int)\n",
    "type(df['encoded_segments'])"
   ]
  },
  {
   "cell_type": "code",
   "execution_count": 73,
   "id": "9779efcb",
   "metadata": {},
   "outputs": [],
   "source": [
    "from sklearn.tree import DecisionTreeRegressor\n",
    "y=df['totfund']\n",
    "X=df[['founded_year','encoded_segments','encoded_countries']]\n",
    "#print(X)"
   ]
  },
  {
   "cell_type": "code",
   "execution_count": 119,
   "id": "95bcc347",
   "metadata": {},
   "outputs": [],
   "source": [
    "max_lead_nodes=[50,100,200,300,500]\n",
    "inv_model= DecisionTreeRegressor(random_state=1)\n"
   ]
  },
  {
   "cell_type": "code",
   "execution_count": 121,
   "id": "57c8d687",
   "metadata": {},
   "outputs": [],
   "source": [
    "from sklearn.model_selection import train_test_split\n",
    "train_X, val_X, train_y, val_y = train_test_split(X,y, random_state=1)"
   ]
  },
  {
   "cell_type": "code",
   "execution_count": 122,
   "id": "10618640",
   "metadata": {},
   "outputs": [
    {
     "data": {
      "text/html": [
       "<style>#sk-container-id-2 {color: black;background-color: white;}#sk-container-id-2 pre{padding: 0;}#sk-container-id-2 div.sk-toggleable {background-color: white;}#sk-container-id-2 label.sk-toggleable__label {cursor: pointer;display: block;width: 100%;margin-bottom: 0;padding: 0.3em;box-sizing: border-box;text-align: center;}#sk-container-id-2 label.sk-toggleable__label-arrow:before {content: \"▸\";float: left;margin-right: 0.25em;color: #696969;}#sk-container-id-2 label.sk-toggleable__label-arrow:hover:before {color: black;}#sk-container-id-2 div.sk-estimator:hover label.sk-toggleable__label-arrow:before {color: black;}#sk-container-id-2 div.sk-toggleable__content {max-height: 0;max-width: 0;overflow: hidden;text-align: left;background-color: #f0f8ff;}#sk-container-id-2 div.sk-toggleable__content pre {margin: 0.2em;color: black;border-radius: 0.25em;background-color: #f0f8ff;}#sk-container-id-2 input.sk-toggleable__control:checked~div.sk-toggleable__content {max-height: 200px;max-width: 100%;overflow: auto;}#sk-container-id-2 input.sk-toggleable__control:checked~label.sk-toggleable__label-arrow:before {content: \"▾\";}#sk-container-id-2 div.sk-estimator input.sk-toggleable__control:checked~label.sk-toggleable__label {background-color: #d4ebff;}#sk-container-id-2 div.sk-label input.sk-toggleable__control:checked~label.sk-toggleable__label {background-color: #d4ebff;}#sk-container-id-2 input.sk-hidden--visually {border: 0;clip: rect(1px 1px 1px 1px);clip: rect(1px, 1px, 1px, 1px);height: 1px;margin: -1px;overflow: hidden;padding: 0;position: absolute;width: 1px;}#sk-container-id-2 div.sk-estimator {font-family: monospace;background-color: #f0f8ff;border: 1px dotted black;border-radius: 0.25em;box-sizing: border-box;margin-bottom: 0.5em;}#sk-container-id-2 div.sk-estimator:hover {background-color: #d4ebff;}#sk-container-id-2 div.sk-parallel-item::after {content: \"\";width: 100%;border-bottom: 1px solid gray;flex-grow: 1;}#sk-container-id-2 div.sk-label:hover label.sk-toggleable__label {background-color: #d4ebff;}#sk-container-id-2 div.sk-serial::before {content: \"\";position: absolute;border-left: 1px solid gray;box-sizing: border-box;top: 0;bottom: 0;left: 50%;z-index: 0;}#sk-container-id-2 div.sk-serial {display: flex;flex-direction: column;align-items: center;background-color: white;padding-right: 0.2em;padding-left: 0.2em;position: relative;}#sk-container-id-2 div.sk-item {position: relative;z-index: 1;}#sk-container-id-2 div.sk-parallel {display: flex;align-items: stretch;justify-content: center;background-color: white;position: relative;}#sk-container-id-2 div.sk-item::before, #sk-container-id-2 div.sk-parallel-item::before {content: \"\";position: absolute;border-left: 1px solid gray;box-sizing: border-box;top: 0;bottom: 0;left: 50%;z-index: -1;}#sk-container-id-2 div.sk-parallel-item {display: flex;flex-direction: column;z-index: 1;position: relative;background-color: white;}#sk-container-id-2 div.sk-parallel-item:first-child::after {align-self: flex-end;width: 50%;}#sk-container-id-2 div.sk-parallel-item:last-child::after {align-self: flex-start;width: 50%;}#sk-container-id-2 div.sk-parallel-item:only-child::after {width: 0;}#sk-container-id-2 div.sk-dashed-wrapped {border: 1px dashed gray;margin: 0 0.4em 0.5em 0.4em;box-sizing: border-box;padding-bottom: 0.4em;background-color: white;}#sk-container-id-2 div.sk-label label {font-family: monospace;font-weight: bold;display: inline-block;line-height: 1.2em;}#sk-container-id-2 div.sk-label-container {text-align: center;}#sk-container-id-2 div.sk-container {/* jupyter's `normalize.less` sets `[hidden] { display: none; }` but bootstrap.min.css set `[hidden] { display: none !important; }` so we also need the `!important` here to be able to override the default hidden behavior on the sphinx rendered scikit-learn.org. See: https://github.com/scikit-learn/scikit-learn/issues/21755 */display: inline-block !important;position: relative;}#sk-container-id-2 div.sk-text-repr-fallback {display: none;}</style><div id=\"sk-container-id-2\" class=\"sk-top-container\"><div class=\"sk-text-repr-fallback\"><pre>DecisionTreeRegressor(random_state=1)</pre><b>In a Jupyter environment, please rerun this cell to show the HTML representation or trust the notebook. <br />On GitHub, the HTML representation is unable to render, please try loading this page with nbviewer.org.</b></div><div class=\"sk-container\" hidden><div class=\"sk-item\"><div class=\"sk-estimator sk-toggleable\"><input class=\"sk-toggleable__control sk-hidden--visually\" id=\"sk-estimator-id-2\" type=\"checkbox\" checked><label for=\"sk-estimator-id-2\" class=\"sk-toggleable__label sk-toggleable__label-arrow\">DecisionTreeRegressor</label><div class=\"sk-toggleable__content\"><pre>DecisionTreeRegressor(random_state=1)</pre></div></div></div></div></div>"
      ],
      "text/plain": [
       "DecisionTreeRegressor(random_state=1)"
      ]
     },
     "execution_count": 122,
     "metadata": {},
     "output_type": "execute_result"
    }
   ],
   "source": [
    "inv_model.fit(train_X, train_y)"
   ]
  },
  {
   "cell_type": "code",
   "execution_count": 123,
   "id": "e600aa10",
   "metadata": {},
   "outputs": [
    {
     "name": "stdout",
     "output_type": "stream",
     "text": [
      "[5.00000000e+04 1.75668198e+07 1.00000000e+08 ... 6.68496000e+06\n",
      " 4.00000000e+04 1.72073239e+07]\n",
      "11370      100000\n",
      "18934    84491709\n",
      "23623    22000000\n",
      "17219       10000\n",
      "10883      364000\n",
      "Name: totfund, dtype: int64\n"
     ]
    }
   ],
   "source": [
    "val_predictions = inv_model.predict(val_X)\n",
    "print(val_predictions)\n",
    "print(val_y.head(5))"
   ]
  },
  {
   "cell_type": "markdown",
   "id": "d56a69a5",
   "metadata": {},
   "source": [
    "Evaluating the model with (Mean Absolute Error)"
   ]
  },
  {
   "cell_type": "code",
   "execution_count": 124,
   "id": "6e135979",
   "metadata": {},
   "outputs": [
    {
     "name": "stdout",
     "output_type": "stream",
     "text": [
      "23057061.392796066\n"
     ]
    }
   ],
   "source": [
    "from sklearn.metrics import mean_absolute_error\n",
    "val_mae = mean_absolute_error(val_y, val_predictions)\n",
    "print(val_mae)"
   ]
  },
  {
   "cell_type": "markdown",
   "id": "bd6320de",
   "metadata": {},
   "source": [
    "Improving the model"
   ]
  },
  {
   "cell_type": "code",
   "execution_count": 125,
   "id": "7f316562",
   "metadata": {},
   "outputs": [],
   "source": [
    "def get_mae(max_leaf_nodes, train_X, val_X, train_y, val_y):\n",
    "    inv_model2 = DecisionTreeRegressor(max_leaf_nodes=max_leaf_nodes, random_state=1)\n",
    "    inv_model2.fit(train_X, train_y)\n",
    "    preds_val = inv_model2.predict(val_X)\n",
    "    mae = mean_absolute_error(val_y, preds_val)\n",
    "    return(mae)\n"
   ]
  },
  {
   "cell_type": "code",
   "execution_count": 126,
   "id": "7aa38654",
   "metadata": {},
   "outputs": [
    {
     "name": "stdout",
     "output_type": "stream",
     "text": [
      "{5: 18133016.68945042, 8: 18106858.05688721, 10: 18270667.78875179, 11: 18759958.199756783, 12: 18597458.75613046, 13: 18590296.645141877, 15: 18687528.73638838, 20: 20069529.97600185, 50: 20907534.516307198, 100: 21170335.93080958, 200: 21312369.016865786, 300: 21568725.918924782, 500: 21747422.907448236, 800: 21828134.623910207, 1000: 21979968.651687857, 1500: 22313167.878081024}\n"
     ]
    }
   ],
   "source": [
    "candidate_max_leaf_nodes=[5,8,10,11,12,13,15,20,50,100,200,300,500,800,1000,1500]\n",
    "scores={leaf_size:get_mae(leaf_size, train_X, val_X, train_y, val_y) for leaf_size in candidate_max_leaf_nodes}\n",
    "print(scores)\n"
   ]
  },
  {
   "cell_type": "code",
   "execution_count": 127,
   "id": "420a224e",
   "metadata": {},
   "outputs": [
    {
     "name": "stdout",
     "output_type": "stream",
     "text": [
      "The number of leaves that minimize the average error is: 8\n"
     ]
    }
   ],
   "source": [
    "best_score=min(scores,key=scores.get)\n",
    "print('The number of leaves that minimize the average error is:',best_score)"
   ]
  },
  {
   "cell_type": "markdown",
   "id": "a4a575b2",
   "metadata": {},
   "source": [
    "Final model exploiting all the dataset"
   ]
  },
  {
   "cell_type": "code",
   "execution_count": 130,
   "id": "6fd55842",
   "metadata": {},
   "outputs": [],
   "source": [
    "#XX = (train_X, val_X)\n",
    "#YY = (train_y, val_y)\n",
    "final_model=DecisionTreeRegressor(max_leaf_nodes=12,random_state=1)"
   ]
  },
  {
   "cell_type": "code",
   "execution_count": 135,
   "id": "a09af917",
   "metadata": {},
   "outputs": [
    {
     "name": "stdout",
     "output_type": "stream",
     "text": [
      "18794639.638872724\n"
     ]
    }
   ],
   "source": [
    "final_model.fit(X,y)\n",
    "pred_final=final_model.predict(X)\n",
    "print(mean_absolute_error(y,pred_final))\n",
    "\n"
   ]
  },
  {
   "cell_type": "markdown",
   "id": "e79a635c",
   "metadata": {},
   "source": [
    "Switching to a Random Forest"
   ]
  },
  {
   "cell_type": "code",
   "execution_count": 138,
   "id": "22526b6b",
   "metadata": {},
   "outputs": [
    {
     "name": "stdout",
     "output_type": "stream",
     "text": [
      "21318498.91966456\n"
     ]
    }
   ],
   "source": [
    "from sklearn.ensemble import RandomForestRegressor\n",
    "rf_model=RandomForestRegressor(random_state=1)\n",
    "rf_model.fit(train_X, train_y)\n",
    "rf_pred=rf_model.predict(val_X)\n",
    "print(mean_absolute_error(val_y,rf_pred))"
   ]
  },
  {
   "cell_type": "code",
   "execution_count": null,
   "id": "733618c1",
   "metadata": {},
   "outputs": [],
   "source": []
  },
  {
   "cell_type": "code",
   "execution_count": null,
   "id": "ad03eedb",
   "metadata": {},
   "outputs": [],
   "source": []
  }
 ],
 "metadata": {
  "kernelspec": {
   "display_name": "Python 3 (ipykernel)",
   "language": "python",
   "name": "python3"
  },
  "language_info": {
   "codemirror_mode": {
    "name": "ipython",
    "version": 3
   },
   "file_extension": ".py",
   "mimetype": "text/x-python",
   "name": "python",
   "nbconvert_exporter": "python",
   "pygments_lexer": "ipython3",
   "version": "3.10.9"
  }
 },
 "nbformat": 4,
 "nbformat_minor": 5
}
